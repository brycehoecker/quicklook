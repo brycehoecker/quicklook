{
 "cells": [
  {
   "cell_type": "code",
   "execution_count": 1,
   "metadata": {},
   "outputs": [
    {
     "ename": "SyntaxError",
     "evalue": "invalid syntax (<ipython-input-1-71f66a353c94>, line 11)",
     "output_type": "error",
     "traceback": [
      "\u001b[0;36m  File \u001b[0;32m\"<ipython-input-1-71f66a353c94>\"\u001b[0;36m, line \u001b[0;32m11\u001b[0m\n\u001b[0;31m    calfile = f\"fdatadirg/calfrunIDg.r1\" # pedestal subtracted data files are named like this\u001b[0m\n\u001b[0m                                       ^\u001b[0m\n\u001b[0;31mSyntaxError\u001b[0m\u001b[0;31m:\u001b[0m invalid syntax\n"
     ]
    }
   ],
   "source": [
    "import matplotlib.pyplot as plt\n",
    "import numpy as np\n",
    "import seaborn as sns # makes prettier plots than standard matplotlib\n",
    "from tqdm import tqdm # will provide a progress bar\n",
    "from apply_gains import apply_gains # accesses a database for gain calibration and applies them\n",
    "import make_clean_showers as mcs # will be used to calculate the charge in each pixel\n",
    "import target_io # one of the basic tools that we installed, used to read data\n",
    "sns.set_style(\"whitegrid\")\n",
    "runID = 328555 # this is one of the January crab runs\n",
    "datadir = \"/data/wipac/CTA/target5and7data/runs_320000_through_329999\" # this is where pSCT data is stored\n",
    "calfile = f\"fdatadirg/calfrunIDg.r1\" # pedestal subtracted data files are named like this\n",
    "reader = target_io.WaveformArrayReader(calfile) # the object created here gets you access to the data\n",
    "n_pixels = reader.fNPixels # the current camera has 1536 pixels\n",
    "n_samples = reader.fNSamples # current readout gives 128 samples, where each sample is 1 ns\n",
    "n_events = reader.fNEvents # gives the number of events in the run\n",
    "waveforms = np.zeros((n_pixels, n_samples), dtype=np.float32) # initializing the array that the waveforms\n",
    ",! will go into; the data type MUST be this\n",
    "all_charge_means = []\n",
    "for event in tqdm(range(n_events)):\n",
    "event = int(event) # tqdm makes the data type a bit different, which the C++ wrapped Python doesn\n",
    "t like\n",
    "reader.GetR1Event(event, waveforms) # this operation puts the calibrated data into waveforms array\n",
    "peak_position = np.argmax(waveforms, axis=1) # this gets the waveform peak for each pixel\n",
    "charge = mcs.calculate_charge(waveforms, peak_position, n_samples) # this function is compiled, so it\n",
    "s\n",
    ",! very quick\n",
    "charge = apply_gains(charge) # returns an array with the gain calibrated data\n",
    "all_charge_means.append(np.mean(charge))\n",
    "# Following code will produce a histogram plot inline of the mean charge for each event in the run\n",
    "fig, ax = plt.subplots(nrows=1, ncols=1, figsize=(11, 8))\n",
    "ax.hist(all_charge_means, bins=50)\n",
    "ax.set_xlabel(\"Charge (Photoelectrons)\", fontsize=24)\n",
    "ax.set_ylabel(\"Counts\", fontsize=24)\n",
    "ax.set_yscale(\"log\")\n",
    "ax.tick_params(labelsize=16)\n",
    "fig.suptitle(f\"Mean Charge in Run runID\", fontsize=26)"
   ]
  },
  {
   "cell_type": "code",
   "execution_count": null,
   "metadata": {},
   "outputs": [],
   "source": []
  }
 ],
 "metadata": {
  "kernelspec": {
   "display_name": "Python 2",
   "language": "python",
   "name": "python2"
  },
  "language_info": {
   "codemirror_mode": {
    "name": "ipython",
    "version": 2
   },
   "file_extension": ".py",
   "mimetype": "text/x-python",
   "name": "python",
   "nbconvert_exporter": "python",
   "pygments_lexer": "ipython2",
   "version": "2.7.16"
  }
 },
 "nbformat": 4,
 "nbformat_minor": 2
}
