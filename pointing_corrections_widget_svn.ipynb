{
 "cells": [
  {
   "cell_type": "code",
   "execution_count": 3,
   "metadata": {
    "collapsed": true
   },
   "outputs": [],
   "source": [
    "import numpy as np\n",
    "\n",
    "from matplotlib import pyplot as plt\n",
    "import matplotlib.cm as cm\n",
    "%matplotlib inline\n",
    "\n",
    "from astropy import units as u\n",
    "from astropy.coordinates import SkyCoord\n",
    "\n",
    "#http://simbad.u-strasbg.fr/simbad/sim-fsam\n",
    "from astroquery.simbad import Simbad\n",
    "from astropy.coordinates import EarthLocation\n",
    "from astropy.coordinates import AltAz\n",
    "\n",
    "from astroplan import Observer\n",
    "from astroplan import download_IERS_A\n",
    "download_IERS_A()\n",
    "\n",
    "import glob\n",
    "import pandas as pd\n",
    "\n",
    "from ipywidgets import interact, fixed\n",
    "import ipywidgets as widgets\n",
    "\n",
    "from current_utils_svn import *\n",
    "import os"
   ]
  },
  {
   "cell_type": "code",
   "execution_count": 20,
   "metadata": {
    "collapsed": true
   },
   "outputs": [],
   "source": [
    "def plot_current_image(current_reading_list_mod, ridx, offset_x, offset_y, save_offsets):\n",
    "\n",
    "    fig = plt.figure(figsize=(20,10))\n",
    "    ax = plt.subplot(1,2,1)\n",
    "    ax.set_xlim(-25,25)\n",
    "    ax.set_ylim(-25,25)\n",
    "    for k in range(25):\n",
    "        xx, yy = np.meshgrid(x_list[k],y_list[k])\n",
    "        xx_pos, yy_pos = np.meshgrid(x_list_pos[k],y_list_pos[k])\n",
    "        c = ax.pcolor(xx,yy,current_reading_list_mod[ridx][yy_pos,xx_pos],vmin=0,vmax=800, cmap='viridis')\n",
    "    x_B = y_B = np.asarray([i - 19.5 + 0.31 * ((i // 8) - 2) for i in range(40)]).T\n",
    "    x_B_mg, y_B_mg = np.meshgrid(x_B,y_B)\n",
    "    ax.plot(x_B_mg, y_B_mg, 'o',color='white', markersize=2)\n",
    "    ax.plot(0.,0.,'r+',markersize=1000)\n",
    "    \n",
    "    if(np.str(camera_coord_pix_cameraview_list[ridx])!='nan'):\n",
    "        for j in range(len(camera_coord_pix_cameraview_list[ridx])):\n",
    "            ax.plot(camera_coord_pix_cameraview_list[ridx][j][0],\n",
    "                   camera_coord_pix_cameraview_list[ridx][j][1],'r*',label=star_names_list[ridx][j],markersize=10)\n",
    "            ax.text(camera_coord_pix_cameraview_list[ridx][j][0],\n",
    "                   camera_coord_pix_cameraview_list[ridx][j][1],star_names_list[ridx][j],size=15,color='orange',\n",
    "                    horizontalalignment='center',verticalalignment='top')\n",
    "        \n",
    "    ax.set_title('{}, reading: {}, time: {}'.format(run_list[run_index], ridx, df_timestamp_currents[ridx])\n",
    "                 , fontsize=15)\n",
    "    \n",
    "    fig.colorbar(c, ax=ax)\n",
    "\n",
    "    ax = plt.subplot(1,2,2)\n",
    "    ax.set_xlim(-25,25)\n",
    "    ax.set_ylim(-25,25)\n",
    "    for k in range(25):\n",
    "        xx, yy = np.meshgrid(x_list[k],y_list[k])\n",
    "        xx_pos, yy_pos = np.meshgrid(x_list_pos[k],y_list_pos[k])\n",
    "        c = ax.pcolor(xx,yy,current_reading_list_mod[ridx][yy_pos,xx_pos],vmin=0,vmax=800, cmap='viridis')\n",
    "    x_B = y_B = np.asarray([i - 19.5 + 0.31 * ((i // 8) - 2) for i in range(40)]).T\n",
    "    x_B_mg, y_B_mg = np.meshgrid(x_B,y_B)\n",
    "    ax.plot(x_B_mg, y_B_mg, 'o',color='white', markersize=2)\n",
    "    ax.plot(0.,0.,'r+',markersize=1000)\n",
    "    ax.plot(offset_x,offset_y,'b+',markersize=1000)\n",
    "    \n",
    "    if(np.str(camera_coord_pix_cameraview_list[ridx])!='nan'):\n",
    "        for j in range(len(camera_coord_pix_cameraview_list[ridx])):\n",
    "            ax.plot(camera_coord_pix_cameraview_list[ridx][j][0]+offset_x,\n",
    "                   camera_coord_pix_cameraview_list[ridx][j][1]+offset_y,'r*',label=star_names_list[ridx][j],markersize=10)\n",
    "            ax.text(camera_coord_pix_cameraview_list[ridx][j][0]+offset_x,\n",
    "                   camera_coord_pix_cameraview_list[ridx][j][1]+offset_y,star_names_list[ridx][j],size=15,color='orange',\n",
    "                    horizontalalignment='center',verticalalignment='top')\n",
    "        \n",
    "    ax.set_title('{}, reading: {}, time: {}'.format(run_list[run_index], ridx, df_timestamp_currents[ridx])\n",
    "                 , fontsize=15)\n",
    "    \n",
    "    fig.colorbar(c, ax=ax)\n",
    "    \n",
    "    if (save_offsets==True):\n",
    "        a_offsets_x[ridx] = offset_x\n",
    "        print(\"saving offset_x={0:.2f} to reading {1:d}\".format(offset_x,ridx))\n",
    "        print(\"a_offsets_x\",a_offsets_x)\n",
    "        a_offsets_y[ridx] = offset_y\n",
    "        print(\"saving offset_y={0:.2f} to reading {1:d}\".format(offset_y,ridx))\n",
    "        print(\"a_offsets_y\",a_offsets_y)\n",
    "        try:\n",
    "            os.makedirs(wdir+plotdir+\"run{0}/\".format(run_list[run_index]))\n",
    "        except FileExistsError:\n",
    "            # directory already exists\n",
    "            pass\n",
    "        plt.savefig(wdir+plotdir+\"run{0}/{1}_reading={2}_meshgrid_widget.pdf\".format(run_list[run_index],\n",
    "                                                                                   run_list[run_index],\n",
    "                                                                                   ridx))"
   ]
  },
  {
   "cell_type": "code",
   "execution_count": 18,
   "metadata": {
    "collapsed": true
   },
   "outputs": [],
   "source": [
    "wdir = \"/Users/massimocapasso/Documents/BarnardCollege/CTA/SCT/Camera/\"\n",
    "datadir = \"pSCTdata/\"\n",
    "logs_dir = \"positioner_logs/\"\n",
    "plotdir = \"plots/\"\n",
    "\n",
    "run_list = pd.read_excel(wdir+\"poslog_currlog.xlsx\")['run']\n",
    "fname_list = pd.read_excel(wdir+\"poslog_currlog.xlsx\")['poslog']\n",
    "fname_currents_list = [\"{}_currents.txt\".format(run) for run in run_list]"
   ]
  },
  {
   "cell_type": "code",
   "execution_count": 6,
   "metadata": {},
   "outputs": [
    {
     "name": "stdout",
     "output_type": "stream",
     "text": [
      "328629\n",
      "positionerLog_20200127_194509.txt\n",
      "328629_currents.txt\n"
     ]
    }
   ],
   "source": [
    "run_index = 21\n",
    "\n",
    "print(run_list[run_index])\n",
    "\n",
    "fname = fname_list[run_index]\n",
    "fname_currents = fname_currents_list[run_index]\n",
    "\n",
    "print(fname)\n",
    "print(fname_currents)\n",
    "\n",
    "\"\"\"\n",
    "log df\n",
    "\"\"\"\n",
    "df = pd.read_csv(wdir+datadir+logs_dir+fname,parse_dates=['current_time','current_Time_DT'],\n",
    "                 infer_datetime_format=True)\n",
    "\n",
    "df_timestamp_key = 'current_Time_DT'\n",
    "df = df.set_index(df_timestamp_key) #allows search with DataFrame.between_time if needed\n",
    "df_timestamp = df.index #now the df_timestamp_key is the index\n",
    "\n",
    "\"\"\"\n",
    "currents df\n",
    "\"\"\"\n",
    "title_currents = fname_currents.split('.')[0].split('_')[0]\n",
    "\n",
    "df_currents = pd.read_csv(wdir+datadir+fname_currents,parse_dates=['timestamp_start','timestamp_end'],\n",
    "                          infer_datetime_format=True)\n",
    "shape = df_currents.shape\n",
    "df_currents_keys = df_currents.keys()\n",
    "#check for pixels with readings below 0 and replace them with nan\n",
    "for key in df_currents_keys[2:]:\n",
    "    if(key.split('_')[1]=='pixelglobal'):\n",
    "        continue\n",
    "    #https://pandas.pydata.org/pandas-docs/stable/user_guide/indexing.html\n",
    "    for i in range(len(df_currents.loc[:,key])):\n",
    "        if(df_currents.loc[i,key] < 0):\n",
    "            df_currents.loc[i,key] = np.nan\n",
    "\n",
    "df_timestamp_currents_key = 'timestamp_start'\n",
    "df_currents = df_currents.set_index(df_timestamp_currents_key) #allows search between times\n",
    "df_timestamp_currents = df_currents.index #now the df_timestamp_key is the index"
   ]
  },
  {
   "cell_type": "markdown",
   "metadata": {},
   "source": [
    "# pixels"
   ]
  },
  {
   "cell_type": "code",
   "execution_count": 7,
   "metadata": {
    "collapsed": true
   },
   "outputs": [],
   "source": [
    "x_list = []\n",
    "y_list = []\n",
    "x_list_pos = []\n",
    "y_list_pos = []\n",
    "for m in range(5):\n",
    "    for k in range(5):\n",
    "        x_list.append(np.asarray([i - 20 + 0.31 * ((i // 9) - 2) -1*(i//9) for i in range(9*k,9*(k+1))]).T)\n",
    "        y_list.append(np.asarray([j - 20 + 0.31 * ((j // 9) - 2) -1*(j//9) for j in range(9*m,9*(m+1))]).T)\n",
    "        x_list_pos.append(np.asarray([i for i in range(8*k,8*(k+1))]).T)\n",
    "        y_list_pos.append(np.asarray([j for j in range(8*m,8*(m+1))]).T)"
   ]
  },
  {
   "cell_type": "code",
   "execution_count": 8,
   "metadata": {
    "collapsed": true
   },
   "outputs": [],
   "source": [
    "ts_list = []\n",
    "current_position_az_list = []\n",
    "current_position_alt_list = []\n",
    "\n",
    "df_dt = (df_timestamp[1] - df_timestamp[0]).total_seconds() #calculates timedelta between pointing readings \n",
    "                                                            #assuming it does not change throughout the run\n",
    "    \n",
    "#print(df_dt)\n",
    "for index_reading in range(len(df_timestamp_currents)): \n",
    "    #print(index_reading)\n",
    "    #pick the positioner reading which is closest to each current reading, in an interval timestamp_current+-delta\n",
    "    #where delta is the time difference between pointing readings\n",
    "    t0 = df_timestamp_currents[index_reading] - pd.Timedelta(df_dt,unit='second')\n",
    "    t1 = df_timestamp_currents[index_reading] + pd.Timedelta(df_dt,unit='second')\n",
    "\n",
    "    t_mask = (df_timestamp > t0) & (df_timestamp < t1)\n",
    "    \n",
    "    if(len(np.where(t_mask==True)[0])!=0):\n",
    "        #accounts for missing pointing readings: e.g.: run328564, index_reading == 0\n",
    "\n",
    "        index_t = np.argmin(np.abs((df.loc[t_mask].index - df_timestamp_currents[index_reading]).total_seconds()))\n",
    "\n",
    "        #for the closest positioner reading, extract az,el as well as timestamp\n",
    "        current_position_az = df.loc[t_mask].iloc[index_t].loc['current_position_az']\n",
    "        current_position_alt = df.loc[t_mask].iloc[index_t].loc['current_position_el']\n",
    "\n",
    "        current_position_az_list.append(current_position_az)\n",
    "        current_position_alt_list.append(current_position_alt)\n",
    "\n",
    "        \n",
    "        ts = df.loc[t_mask].index[index_t]\n",
    "        ts_list.append(ts)\n",
    "    else:\n",
    "        current_position_az_list.append(np.nan)\n",
    "        current_position_alt_list.append(np.nan)\n",
    "        ts_list.append(np.nan)"
   ]
  },
  {
   "cell_type": "code",
   "execution_count": 9,
   "metadata": {
    "collapsed": true
   },
   "outputs": [],
   "source": [
    "\"\"\"\n",
    "create current images for each current readout - exclude modules 4,1,103,125,126,9\n",
    "\"\"\"\n",
    "modules = list_modules(df_currents)\n",
    "current_reading_list_mod = []\n",
    "for reading in range(shape[0]):\n",
    "    currents = get_currents(df_currents,modules,reading)\n",
    "\n",
    "    #add central module\n",
    "    currents_110 = currents_by_position = arrange_pixels(np.full(64, np.nan))\n",
    "    currents[110] = currents_110\n",
    "    #exclude modules 4,1,103,125,126,9\n",
    "    currents_4 = currents_by_position = arrange_pixels(np.full(64, np.nan))\n",
    "    currents[4] = currents_4\n",
    "    currents_1 = currents_by_position = arrange_pixels(np.full(64, np.nan))\n",
    "    currents[1] = currents_1\n",
    "    currents_103 = currents_by_position = arrange_pixels(np.full(64, np.nan))\n",
    "    currents[103] = currents_103\n",
    "    currents_125 = currents_by_position = arrange_pixels(np.full(64, np.nan))\n",
    "    currents[125] = currents_125\n",
    "    currents_126 = currents_by_position = arrange_pixels(np.full(64, np.nan))\n",
    "    currents[126] = currents_126\n",
    "    currents_9 = currents_by_position = arrange_pixels(np.full(64, np.nan))\n",
    "    currents[9] = currents_9\n",
    "\n",
    "    #currents\n",
    "    currents_0 = np.concatenate([currents[4],currents[5],currents[1],currents[3],currents[2]],axis=1)\n",
    "    currents_1 = np.concatenate([currents[103],currents[125],currents[126],currents[106],currents[9]],axis=1)\n",
    "    currents_2 = np.concatenate([currents[119],currents[108],currents[110],currents[121],currents[8]],axis=1)\n",
    "    currents_3 = np.concatenate([currents[115],currents[123],currents[124],currents[112],currents[7]],axis=1)\n",
    "    currents_4 = np.concatenate([currents[100],currents[111],currents[114],currents[107],currents[6]],axis=1)\n",
    "    \n",
    "    currents_all = np.concatenate([currents_4,currents_3,currents_2,currents_1,currents_0],axis = 0)\n",
    "    \n",
    "    current_reading_list_mod.append(currents_all)"
   ]
  },
  {
   "cell_type": "code",
   "execution_count": 10,
   "metadata": {
    "collapsed": true
   },
   "outputs": [],
   "source": [
    "observing_location = EarthLocation(lat='31d40m30s', lon='-110d57m7s', height=1268*u.m) #https://en.wikipedia.org/wiki/VERITAS\n",
    "aa_list = [AltAz(location=observing_location, obstime=observing_time) if(np.str(observing_time)!='nan') else np.nan for observing_time in ts_list]"
   ]
  },
  {
   "cell_type": "code",
   "execution_count": 12,
   "metadata": {
    "collapsed": true
   },
   "outputs": [],
   "source": [
    "#define width and height of the box where we want to search for stars\n",
    "width = 240*u.arcmin\n",
    "height = 240*u.arcmin\n",
    "\n",
    "star_names_list = []\n",
    "camera_coord_pix_cameraview_list = []\n",
    "\n",
    "for ridx in range(shape[0]):\n",
    "    if(np.str(ts_list[ridx])=='nan'):\n",
    "        star_names_list.append(np.nan)\n",
    "        camera_coord_pix_cameraview_list.append(np.nan)\n",
    "        continue\n",
    "    #take center from alt,az pointer log, at the time closest to corresponding current reading\n",
    "    target_center = SkyCoord(az=current_position_az_list[ridx]*u.deg,alt=current_position_alt_list[ridx]*u.deg,\n",
    "                      frame='altaz',location=observing_location,obstime=ts_list[ridx])\n",
    "    target_center_string = target_center.icrs.to_string('hmsdms')\n",
    "\n",
    "    #query Simbad by criteria: stars(*) with defined magnitude range, within the box\n",
    "    otype = '*'\n",
    "    vmag = 7\n",
    "    search_string = 'region(box,{0},{1}m {2}m) & otype={3} & Vmag <= {4}'.format(\n",
    "        target_center_string,width.value,height.value,otype,vmag)\n",
    "    #print(search_string)\n",
    "    simbad_table = Simbad.query_criteria(search_string)\n",
    "\n",
    "    \n",
    "    coo_simbad_list = []\n",
    "    for i in range(len(simbad_table)):\n",
    "        coo_simbad_list.append(SkyCoord(simbad_table['RA'][i]+\" \"+simbad_table['DEC'][i],unit=(u.hourangle, u.deg), frame='icrs'))\n",
    "    star_names_list.append([star_name.decode(\"utf-8\") for star_name in simbad_table['MAIN_ID']]) #assuming \n",
    "                                                                                                  #utf-8 encoding \n",
    "                                                                                                  #for simbad table\n",
    "    \"\"\"\n",
    "    find alt az for each of the pointings for each of the stars centroids in the list\n",
    "    \"\"\"\n",
    "    aa = aa_list[ridx]\n",
    "    center_list = []\n",
    "    for center in (coo_simbad_list):\n",
    "        center_list.append(center.transform_to(aa))\n",
    "\n",
    "    \"\"\"\n",
    "    knowing the telescope pointing alt and az, calculate star camera\n",
    "    coordinates in degrees\n",
    "    \"\"\"\n",
    "\n",
    "    camera_coord_deg_skyview_list = []\n",
    "    a_tel_el_az = np.array([target_center.alt.radian, target_center.az.radian])\n",
    "    for center_aa in center_list:\n",
    "        a_el_az = np.array([center_aa.alt.radian, center_aa.az.radian])\n",
    "        a_camera_coord = ConvertElevAzimToCameraCoord(a_el_az,a_tel_el_az)\n",
    "        a_camera_coord_deg = a_camera_coord*180/np.pi\n",
    "        camera_coord_deg_skyview_list.append(a_camera_coord_deg)\n",
    "\n",
    "    #print(camera_coord_deg_skyview_list)\n",
    "\n",
    "    #convert to cameraview\n",
    "    #camera view is flipped 180 deg around y: x-->-x\n",
    "    camera_coord_deg_cameraview_list = []\n",
    "    for a_camera_coord_deg_skyview in camera_coord_deg_skyview_list:\n",
    "        a_camera_coord_deg_cameraview = np.array([-1*a_camera_coord_deg_skyview[0],a_camera_coord_deg_skyview[1]])\n",
    "        camera_coord_deg_cameraview_list.append(a_camera_coord_deg_cameraview)\n",
    "\n",
    "    #print(camera_coord_deg_cameraview_list)\n",
    "\n",
    "    #convert to pixel coordinates\n",
    "    camera_coord_pix_cameraview = []\n",
    "    for a_camera_coord_deg_cameraview in camera_coord_deg_cameraview_list:\n",
    "        a_camera_coord_pix_cameraview = (a_camera_coord_deg_cameraview)/0.067\n",
    "        camera_coord_pix_cameraview.append(a_camera_coord_pix_cameraview)\n",
    "\n",
    "    camera_coord_pix_cameraview_list.append(camera_coord_pix_cameraview)"
   ]
  },
  {
   "cell_type": "code",
   "execution_count": 13,
   "metadata": {
    "collapsed": true
   },
   "outputs": [],
   "source": [
    "a_offsets_x = np.empty(len(current_reading_list_mod))\n",
    "a_offsets_x[:] = np.nan\n",
    "a_offsets_y = np.empty(len(current_reading_list_mod))\n",
    "a_offsets_y[:] = np.nan"
   ]
  },
  {
   "cell_type": "code",
   "execution_count": 14,
   "metadata": {
    "collapsed": true
   },
   "outputs": [],
   "source": [
    "slider_offset_x = widgets.FloatSlider(value = 0., min=-20., max=20., step = 0.1)\n",
    "slider_offset_y = widgets.FloatSlider(value = 0., min=-20., max=20., step = 0.1)#, orientation='vertical')\n",
    "slider_ridx = widgets.IntSlider(value = 0., min=0., max=len(current_reading_list_mod)-1, step=1)\n",
    "toggle_save_offsets = widgets.ToggleButton(value=False, \n",
    "                                           description='Save Offsets', \n",
    "                                           disabled=False,\n",
    "                                           button_style='', # 'success', 'info', 'warning', 'danger' or ''\n",
    "                                           tooltip='Description',\n",
    "                                           icon='check')"
   ]
  },
  {
   "cell_type": "code",
   "execution_count": 21,
   "metadata": {
    "scrolled": false
   },
   "outputs": [
    {
     "data": {
      "application/vnd.jupyter.widget-view+json": {
       "model_id": "ff8ab5e93dbb47628066261b2052da41",
       "version_major": 2,
       "version_minor": 0
      },
      "text/plain": [
       "A Jupyter Widget"
      ]
     },
     "metadata": {},
     "output_type": "display_data"
    }
   ],
   "source": [
    "interact(plot_current_image, current_reading_list_mod=fixed(current_reading_list_mod), \n",
    "         ridx=slider_ridx, offset_x=slider_offset_x, offset_y=slider_offset_y,\n",
    "        save_offsets=toggle_save_offsets);"
   ]
  },
  {
   "cell_type": "code",
   "execution_count": 39,
   "metadata": {},
   "outputs": [
    {
     "data": {
      "text/plain": [
       "array([nan, nan, nan, nan, nan, nan, nan, nan, nan, nan, nan, nan, nan,\n",
       "       nan, nan, nan, nan, nan, nan, nan, nan])"
      ]
     },
     "execution_count": 39,
     "metadata": {},
     "output_type": "execute_result"
    }
   ],
   "source": [
    "a_offsets_x"
   ]
  },
  {
   "cell_type": "code",
   "execution_count": 40,
   "metadata": {},
   "outputs": [
    {
     "data": {
      "text/plain": [
       "array([nan, nan, nan, nan, nan, nan, nan, nan, nan, nan, nan, nan, nan,\n",
       "       nan, nan, nan, nan, nan, nan, nan, nan])"
      ]
     },
     "execution_count": 40,
     "metadata": {},
     "output_type": "execute_result"
    }
   ],
   "source": [
    "a_offsets_y"
   ]
  },
  {
   "cell_type": "code",
   "execution_count": 1201,
   "metadata": {
    "collapsed": true
   },
   "outputs": [],
   "source": [
    "save_length = len((np.where(np.isnan(a_offsets_x)==False))[0])\n",
    "save_indices = (np.where(np.isnan(a_offsets_x)==False))[0]"
   ]
  },
  {
   "cell_type": "code",
   "execution_count": 22,
   "metadata": {},
   "outputs": [
    {
     "ename": "NameError",
     "evalue": "name 'save_length' is not defined",
     "output_type": "error",
     "traceback": [
      "\u001b[0;31m---------------------------------------------------------------------------\u001b[0m",
      "\u001b[0;31mNameError\u001b[0m                                 Traceback (most recent call last)",
      "\u001b[0;32m<ipython-input-22-ef6808fa75b6>\u001b[0m in \u001b[0;36m<module>\u001b[0;34m()\u001b[0m\n\u001b[1;32m      1\u001b[0m \u001b[0;31m#offset: distance from center of star field to center of FOV in pixel coords, skyview\u001b[0m\u001b[0;34m\u001b[0m\u001b[0;34m\u001b[0m\u001b[0m\n\u001b[0;32m----> 2\u001b[0;31m df_offsets = pd.DataFrame({'run':np.array([run_list[run_index]]*save_length),\n\u001b[0m\u001b[1;32m      3\u001b[0m                            \u001b[0;34m'current_reading_index'\u001b[0m\u001b[0;34m:\u001b[0m\u001b[0msave_indices\u001b[0m\u001b[0;34m,\u001b[0m\u001b[0;34m\u001b[0m\u001b[0m\n\u001b[1;32m      4\u001b[0m                            \u001b[0;34m'timestamp'\u001b[0m\u001b[0;34m:\u001b[0m\u001b[0mdf_timestamp_currents\u001b[0m\u001b[0;34m[\u001b[0m\u001b[0msave_indices\u001b[0m\u001b[0;34m]\u001b[0m\u001b[0;34m,\u001b[0m\u001b[0;34m\u001b[0m\u001b[0m\n\u001b[1;32m      5\u001b[0m                            \u001b[0;34m'delta_x_pix'\u001b[0m\u001b[0;34m:\u001b[0m\u001b[0ma_offsets_x\u001b[0m\u001b[0;34m[\u001b[0m\u001b[0msave_indices\u001b[0m\u001b[0;34m]\u001b[0m\u001b[0;34m,\u001b[0m\u001b[0;34m\u001b[0m\u001b[0m\n",
      "\u001b[0;31mNameError\u001b[0m: name 'save_length' is not defined"
     ]
    }
   ],
   "source": [
    "#offset: distance from center of star field to center of FOV in pixel coords, skyview\n",
    "df_offsets = pd.DataFrame({'run':np.array([run_list[run_index]]*save_length),\n",
    "                           'current_reading_index':save_indices,\n",
    "                           'timestamp':df_timestamp_currents[save_indices],\n",
    "                           'delta_x_pix':a_offsets_x[save_indices],\n",
    "                           'delta_y_pix':-a_offsets_y[save_indices],\n",
    "                           'timestamp_pointing':df_timestamp[save_indices],\n",
    "                           'current_pos_az':np.array(current_position_az_list)[save_indices],\n",
    "                           'current_pos_el':np.array(current_position_alt_list)[save_indices]\n",
    "                           })"
   ]
  },
  {
   "cell_type": "code",
   "execution_count": 1203,
   "metadata": {
    "collapsed": true
   },
   "outputs": [],
   "source": [
    "if(os.path.exists(wdir+\"pointing_corrections_widget.csv\")==False):\n",
    "    df_offsets.to_csv(wdir+\"pointing_corrections_widget.csv\",sep=',',index=False)\n",
    "else:\n",
    "    with open(wdir+\"pointing_corrections_widget.csv\",'a') as f:\n",
    "        f.write('\\n')\n",
    "    df_offsets.to_csv(wdir+\"pointing_corrections_widget.csv\",sep=',',mode='a',index=False,header=False)"
   ]
  },
  {
   "cell_type": "code",
   "execution_count": null,
   "metadata": {
    "collapsed": true
   },
   "outputs": [],
   "source": []
  },
  {
   "cell_type": "code",
   "execution_count": null,
   "metadata": {
    "collapsed": true
   },
   "outputs": [],
   "source": []
  }
 ],
 "metadata": {
  "kernelspec": {
   "display_name": "Python 3",
   "language": "python",
   "name": "python3"
  },
  "language_info": {
   "codemirror_mode": {
    "name": "ipython",
    "version": 3
   },
   "file_extension": ".py",
   "mimetype": "text/x-python",
   "name": "python",
   "nbconvert_exporter": "python",
   "pygments_lexer": "ipython3",
   "version": "3.6.2"
  }
 },
 "nbformat": 4,
 "nbformat_minor": 2
}
